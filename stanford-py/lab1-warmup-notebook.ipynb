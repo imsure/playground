{
 "cells": [
  {
   "cell_type": "markdown",
   "metadata": {},
   "source": [
    "# Lab 1: Welcome to Python!"
   ]
  },
  {
   "cell_type": "markdown",
   "metadata": {},
   "source": [
    "## Goals\n",
    "Welcome to your first lab day! Labs in CS41 are designed to be your opportunity to experiment with Python and gain hands-on experience with the language.\n",
    "\n",
    "The primary goal of this lab is to ensure that your Python installation process went smoothly, and that there are no lingering Python 2/3 bugs floating around.\n",
    "\n",
    "This lab also gives you the chance to write what might be your first programs in Python and allows you to experiment with both scripts and with the interactive interpreter!\n",
    "\n",
    "These problems are not intended to be algorithmically challenging - just ways to flex your new Python 3 muscles. Even if the problems seem simple, work through them quickly, and then you're free to go.\n",
    "\n",
    "As always, have fun, and enjoy the (remainder of the) class period!"
   ]
  },
  {
   "cell_type": "markdown",
   "metadata": {},
   "source": [
    "## Zen of Python\n",
    "\n",
    "Run the following code cell by selecting the cell and pressing Shift+Enter."
   ]
  },
  {
   "cell_type": "code",
   "execution_count": 1,
   "metadata": {},
   "outputs": [
    {
     "name": "stdout",
     "output_type": "stream",
     "text": [
      "The Zen of Python, by Tim Peters\n",
      "\n",
      "Beautiful is better than ugly.\n",
      "Explicit is better than implicit.\n",
      "Simple is better than complex.\n",
      "Complex is better than complicated.\n",
      "Flat is better than nested.\n",
      "Sparse is better than dense.\n",
      "Readability counts.\n",
      "Special cases aren't special enough to break the rules.\n",
      "Although practicality beats purity.\n",
      "Errors should never pass silently.\n",
      "Unless explicitly silenced.\n",
      "In the face of ambiguity, refuse the temptation to guess.\n",
      "There should be one-- and preferably only one --obvious way to do it.\n",
      "Although that way may not be obvious at first unless you're Dutch.\n",
      "Now is better than never.\n",
      "Although never is often better than *right* now.\n",
      "If the implementation is hard to explain, it's a bad idea.\n",
      "If the implementation is easy to explain, it may be a good idea.\n",
      "Namespaces are one honking great idea -- let's do more of those!\n"
     ]
    }
   ],
   "source": [
    "import this"
   ]
  },
  {
   "cell_type": "markdown",
   "metadata": {},
   "source": [
    "## Hello World\n",
    "\n",
    "Edit the following cell so that it prints `\"Hello, world!\"` when executed."
   ]
  },
  {
   "cell_type": "code",
   "execution_count": 1,
   "metadata": {},
   "outputs": [
    {
     "name": "stdout",
     "output_type": "stream",
     "text": [
      "Hello, world!\n"
     ]
    }
   ],
   "source": [
    "# Edit me so that I print out \"Hello, world!\" when run!\n",
    "print('Hello, world!')"
   ]
  },
  {
   "cell_type": "markdown",
   "metadata": {},
   "source": [
    "### Fizz, Buzz, FizzBuzz!\n",
    "If we list all of the natural numbers under 41 that are a multiple of 3 or 5, we get\n",
    "\n",
    "```\n",
    " 3,  5,  6,  9, 10, 12, 15,\n",
    "18, 20, 21, 24, 25, 27, 30,\n",
    "33, 35, 36, 39, 40\n",
    "```\n",
    "\n",
    "The sum of these numbers is 408.\n",
    "\n",
    "Find the sum of all the multiples of 3 or 5 below 1001."
   ]
  },
  {
   "cell_type": "code",
   "execution_count": 8,
   "metadata": {},
   "outputs": [
    {
     "data": {
      "text/plain": [
       "233800232499166668"
      ]
     },
     "execution_count": 8,
     "metadata": {},
     "output_type": "execute_result"
    }
   ],
   "source": [
    "def fizzbuzz(n):\n",
    "    \"\"\"Returns the sum of all numbers < `n` divisible by 3 or 5.\"\"\"\n",
    "    # Generator comprehension is memory saver!\n",
    "    return sum(x for x in range(n) if x % 3 == 0 or x % 5 == 0)\n",
    "\n",
    "assert fizzbuzz(41) == 408\n",
    "fizzbuzz(1001)\n",
    "fizzbuzz(1001000000)"
   ]
  },
  {
   "cell_type": "markdown",
   "metadata": {},
   "source": [
    "### Collatz Sequence\n",
    "Depending on who you took CS106A from, you may have seen this problem before.\n",
    "\n",
    "The *Collatz sequence* is an iterative sequence defined on the positive integers by:\n",
    "\n",
    "```\n",
    "n -> n / 2    if n is even\n",
    "n -> 3n + 1   if n is odd\n",
    "```\n",
    "\n",
    "For example, using the rule above and starting with 13 yields the sequence:\n",
    "\n",
    "```\n",
    "13 -> 40 -> 20 -> 10 -> 5 -> 16 -> 8 -> 4 -> 2 -> 1\n",
    "```\n",
    "\n",
    "It can be seen that this sequence (starting at 13 and finishing at 1) contains 10 terms. Although unproven, it hypothesized that all starting numbers finish at 1.\n",
    "\n",
    "What is the length of the longest chain which has a starting number under 1000?\n",
    "\n",
    "*NOTE: Once the chain starts the terms are allowed to go above one thousand.*\n",
    "\n",
    "Challenge: Same question, but for any starting number under 1,000,000 (you may need to implement a cleverer-than-naive algorithm)"
   ]
  },
  {
   "cell_type": "code",
   "execution_count": 12,
   "metadata": {},
   "outputs": [
    {
     "name": "stdout",
     "output_type": "stream",
     "text": [
      "Time elapsed for max_collatz_len: 0ms\n",
      "Time elapsed for max_collatz_len_fast: 0ms\n",
      "Time elapsed for max_collatz_len: 0ms\n",
      "Time elapsed for max_collatz_len_fast: 0ms\n",
      "Time elapsed for max_collatz_len: 1ms\n",
      "Time elapsed for max_collatz_len_fast: 0ms\n",
      "Time elapsed for max_collatz_len: 9ms\n",
      "Time elapsed for max_collatz_len_fast: 2ms\n",
      "Time elapsed for max_collatz_len: 15191ms\n",
      "525\n",
      "Time elapsed for max_collatz_len_fast: 1532ms\n",
      "525\n"
     ]
    }
   ],
   "source": [
    "from datetime import datetime\n",
    "\n",
    "def timeit(func):\n",
    "    def timed_func(*args):\n",
    "        start = datetime.now()\n",
    "        ret = func(*args)\n",
    "        time_elpased = datetime.now() - start\n",
    "        print('Time elapsed for {}: {}ms'.format(func.__name__, \n",
    "                                                 round(time_elpased.total_seconds() * 1000)))\n",
    "        return ret\n",
    "        \n",
    "    return timed_func\n",
    "\n",
    "def collatz_len(n):\n",
    "    \"\"\"Computes the length of the Collatz sequence starting at `n`.\"\"\"\n",
    "    length = 1\n",
    "    while n != 1:\n",
    "        n = n * 3 + 1 if n % 2 else n // 2\n",
    "        length += 1\n",
    "        \n",
    "    return length\n",
    "        \n",
    "def collatz_len_fast(n, cache):\n",
    "    \"\"\"Computes the length of the Collatz sequence starting at `n`.\"\"\"\n",
    "    length = 1\n",
    "    m = n\n",
    "    while m != 1:\n",
    "        m = m * 3 + 1 if m % 2 else m // 2\n",
    "        if m in cache:\n",
    "            length += cache[m]\n",
    "            break\n",
    "        else:\n",
    "            length += 1\n",
    "    \n",
    "    cache[n] = length\n",
    "    return length\n",
    "    \n",
    "@timeit\n",
    "def max_collatz_len(n):\n",
    "    \"\"\"Computes the longest Collatz sequence length for starting numbers < `n`\"\"\"\n",
    "    if n <= 1:\n",
    "        return 0\n",
    "    return max([collatz_len(i) for i in range(1, n)])\n",
    "\n",
    "@timeit\n",
    "def max_collatz_len_fast(n):\n",
    "    \"\"\"Computes the longest Collatz sequence length for starting numbers < `n`\"\"\"\n",
    "    if n <= 1:\n",
    "        return 0\n",
    "    \n",
    "    cache = {}\n",
    "    return max(collatz_len_fast(i, cache) for i in range(1, n))\n",
    "\n",
    "assert collatz_len(13) == 10\n",
    "assert collatz_len(1) == 1\n",
    "assert collatz_len(2) == 2\n",
    "# 3 -> 10 -> 5 -> 16 -> 8 -> 4 -> 2 -> 1\n",
    "assert collatz_len(3) == 8\n",
    "assert collatz_len(4) == 3\n",
    "assert collatz_len(5) == 6\n",
    "assert max_collatz_len(6) == max_collatz_len_fast(6) == 8\n",
    "assert max_collatz_len(10) == max_collatz_len_fast(10) == 20\n",
    "assert max_collatz_len(100) == max_collatz_len_fast(100) == 119\n",
    "assert max_collatz_len(1000) == max_collatz_len_fast(1000) == 179\n",
    "\n",
    "print(max_collatz_len(1000000))\n",
    "print(max_collatz_len_fast(1000000))"
   ]
  },
  {
   "cell_type": "markdown",
   "metadata": {},
   "source": [
    "### Fahrenheit-to-Celsius converter\n",
    "Write a program to convert degrees Fahrenheit to degrees Celcius by (1) asking the user for a number (not necessarily integral) representing the current temperature in degrees Fahrenheit, (2) converting that value into the equivalent degrees Celsius, and (3) printing the final equivalent value.\n",
    "\n",
    "For example, your program should be able to emulate the following three sample runs:\n",
    "\n",
    "```\n",
    "Temperature F? 212\n",
    "It is 100.0 degrees Celsius.\n",
    "\n",
    "Temperature F? 98.6\n",
    "It is 37.0 degrees Celsius.\n",
    "\n",
    "Temperature F? 10\n",
    "It is -12.222222222222221 degrees Celsius.\n",
    "```\n",
    "\n",
    "Want to be fancy (challenge)? Try to print the final temperature to two decimal places. *Hint: Take a look at the [`round()`](https://docs.python.org/3.4/library/functions.html#round) function. Isn't Python great?*"
   ]
  },
  {
   "cell_type": "code",
   "execution_count": 9,
   "metadata": {},
   "outputs": [
    {
     "name": "stdin",
     "output_type": "stream",
     "text": [
      "Temperature F? 100\n"
     ]
    },
    {
     "name": "stdout",
     "output_type": "stream",
     "text": [
      "It is 37.78 degree Celsius.\n"
     ]
    },
    {
     "name": "stdin",
     "output_type": "stream",
     "text": [
      "Temperature F? 212\n"
     ]
    },
    {
     "name": "stdout",
     "output_type": "stream",
     "text": [
      "It is 100.0 degree Celsius.\n"
     ]
    },
    {
     "name": "stdin",
     "output_type": "stream",
     "text": [
      "Temperature F? 98\n"
     ]
    },
    {
     "name": "stdout",
     "output_type": "stream",
     "text": [
      "It is 36.67 degree Celsius.\n"
     ]
    },
    {
     "name": "stdin",
     "output_type": "stream",
     "text": [
      "Temperature F? 10\n"
     ]
    },
    {
     "name": "stdout",
     "output_type": "stream",
     "text": [
      "It is -12.22 degree Celsius.\n"
     ]
    },
    {
     "name": "stdin",
     "output_type": "stream",
     "text": [
      "Temperature F? r\n"
     ]
    },
    {
     "name": "stdout",
     "output_type": "stream",
     "text": [
      "Please input a number!\n"
     ]
    },
    {
     "name": "stdin",
     "output_type": "stream",
     "text": [
      "Temperature F? q\n"
     ]
    }
   ],
   "source": [
    "def fahrenheit_to_censius(degree_fahr):\n",
    "  return round((degree_fahr - 32) * 5 / 9, 2)\n",
    "\n",
    "while True:\n",
    "    user_input = input('Temperature F?')\n",
    "    if user_input == 'q':\n",
    "        break\n",
    "    try:\n",
    "        temp_fahrenheit = float(user_input)\n",
    "    except ValueError:\n",
    "        print('Please input a number!')\n",
    "        continue\n",
    "    else:\n",
    "        temp_celcius = fahrenheit_to_censius(temp_fahrenheit)\n",
    "        print('It is {} degree Celsius.'.format(temp_celcius))"
   ]
  },
  {
   "cell_type": "markdown",
   "metadata": {},
   "source": [
    "## Bonus Challenges\n",
    "\n",
    "Don't worry about getting to these bonus problems. In most cases, bonus questions ask you to think more critically or use more advanced algorithms. "
   ]
  },
  {
   "cell_type": "markdown",
   "metadata": {},
   "source": [
    "### Zen Printing\n",
    "\n",
    "Write a program using `print()` that, when run, prints out a tic-tac-toe board.\n",
    "\n",
    "```\n",
    " X | . | . \n",
    "-----------\n",
    " . | O | . \n",
    "-----------\n",
    " . | O | X \n",
    "```\n",
    "\n",
    "You may find the optional arguments to `print()` useful, which you can read about [here](https://docs.python.org/3/library/functions.html#print). In no more than five minutes, try to use these optional arguments to print out this particular tic-tac-toe board."
   ]
  },
  {
   "cell_type": "code",
   "execution_count": 1,
   "metadata": {},
   "outputs": [
    {
     "name": "stdout",
     "output_type": "stream",
     "text": [
      "\n",
      "   |   |  \n",
      "-----------\n",
      "   |   |  \n",
      "-----------\n",
      "   |   |  \n",
      "\n"
     ]
    }
   ],
   "source": [
    "# Print a tic-tac-toe board using optional arguments.\n",
    "tic_tac_toe_board = \"\"\"\n",
    "   |   |  \n",
    "-----------\n",
    "   |   |  \n",
    "-----------\n",
    "   |   |  \n",
    "\"\"\"\n",
    "print(tic_tac_toe_board)"
   ]
  },
  {
   "cell_type": "markdown",
   "metadata": {},
   "source": [
    "Maybe you were able to print out the tic-tac-toe board. Maybe not. In the five minutes you've been working on that, I've gotten bored with normal tic-tac-toe (too many ties!) so now, I want to play SUPER tic-tac-toe.\n",
    "\n",
    "Write a program that prints out a SUPER tic-tac-toe board.\n",
    "\n",
    "```\n",
    "  |  |  H  |  |  H  |  |  \n",
    "--+--+--H--+--+--H--+--+--\n",
    "  |  |  H  |  |  H  |  |  \n",
    "--+--+--H--+--+--H--+--+--\n",
    "  |  |  H  |  |  H  |  |  \n",
    "========+========+========\n",
    "  |  |  H  |  |  H  |  |  \n",
    "--+--+--H--+--+--H--+--+--\n",
    "  |  |  H  |  |  H  |  |  \n",
    "--+--+--H--+--+--H--+--+--\n",
    "  |  |  H  |  |  H  |  |  \n",
    "========+========+========\n",
    "  |  |  H  |  |  H  |  |  \n",
    "--+--+--H--+--+--H--+--+--\n",
    "  |  |  H  |  |  H  |  |  \n",
    "--+--+--H--+--+--H--+--+--\n",
    "  |  |  H  |  |  H  |  |  \n",
    "```\n",
    "\n",
    "You'll find that there might be many ways to solve this problem. Which do you think is the most 'pythonic?' Talk to someone next to you about your approach to this problem. Remember the Zen of Python!"
   ]
  },
  {
   "cell_type": "code",
   "execution_count": 23,
   "metadata": {},
   "outputs": [
    {
     "name": "stdout",
     "output_type": "stream",
     "text": [
      "  |  |  H  |  |  H  |  |  \n",
      "--+--+--H--+--+--H--+--+--\n",
      "  |  |  H  |  |  H  |  |  \n",
      "--+--+--H--+--+--H--+--+--\n",
      "  |  |  H  |  |  H  |  |  \n",
      "========+========+========\n",
      "  |  |  H  |  |  H  |  |  \n",
      "--+--+--H--+--+--H--+--+--\n",
      "  |  |  H  |  |  H  |  |  \n",
      "--+--+--H--+--+--H--+--+--\n",
      "  |  |  H  |  |  H  |  |  \n",
      "========+========+========\n",
      "  |  |  H  |  |  H  |  |  \n",
      "--+--+--H--+--+--H--+--+--\n",
      "  |  |  H  |  |  H  |  |  \n",
      "--+--+--H--+--+--H--+--+--\n",
      "  |  |  H  |  |  H  |  |  \n",
      "\n",
      "  |  |  H  |  |  H  |  |  \n",
      "--+--+--H--+--+--H--+--+--\n",
      "  |  |  H  |  |  H  |  |  \n",
      "--+--+--H--+--+--H--+--+--\n",
      "  |  |  H  |  |  H  |  |  \n",
      "========+========+========\n",
      "  |  |  H  |  |  H  |  |  \n",
      "--+--+--H--+--+--H--+--+--\n",
      "  |  |  H  |  |  H  |  |  \n",
      "--+--+--H--+--+--H--+--+--\n",
      "  |  |  H  |  |  H  |  |  \n",
      "========+========+========\n",
      "  |  |  H  |  |  H  |  |  \n",
      "--+--+--H--+--+--H--+--+--\n",
      "  |  |  H  |  |  H  |  |  \n",
      "--+--+--H--+--+--H--+--+--\n",
      "  |  |  H  |  |  H  |  |  \n"
     ]
    }
   ],
   "source": [
    "def print_super_tic_tac_toe_1(num_rows=3, num_cols=3):\n",
    "    row_even = ['  |  |  '] * num_cols\n",
    "    row_odd = ['--+--+--'] * num_cols\n",
    "    row_sep = ['========'] * num_cols\n",
    "    for i in range(num_rows):\n",
    "        print('H'.join(row_even))\n",
    "        print('H'.join(row_odd))\n",
    "        print('H'.join(row_even))\n",
    "        print('H'.join(row_odd))\n",
    "        print('H'.join(row_even))\n",
    "        if i < num_rows - 1:\n",
    "            print('+'.join(row_sep))\n",
    " \n",
    "def print_super_tic_tac_toe_2():\n",
    "    row = 'H'.join(['  |  |  '] * 3)\n",
    "    row_div = '\\n{}\\n'.format('H'.join(['--+--+--'] * 3))\n",
    "    block = row_div.join([row] * 3)\n",
    "    block_div = '\\n{}\\n'.format('+'.join(['========'] * 3))\n",
    "    board = block_div.join([block] * 3)\n",
    "    print(board)\n",
    "\n",
    "print_super_tic_tac_toe_1()\n",
    "print()\n",
    "print_super_tic_tac_toe_2()"
   ]
  },
  {
   "cell_type": "markdown",
   "metadata": {},
   "source": [
    "## Done Early?\n",
    "\n",
    "Read [Python’s Style Guide](https://www.python.org/dev/peps/pep-0008/), keeping the Zen of Python in mind. In what ways do you notice that Python's style guidelines are influence by Python's core philosophy? Some portions of the style guide cover language features that we haven't yet touched on in class - feel free to skip over those sections for now."
   ]
  },
  {
   "cell_type": "markdown",
   "metadata": {},
   "source": [
    "## Submitting Labs\n",
    "\n",
    "Alright, you did it! There's nothing to submit for this lab. You're free to leave as soon as you've finished this lab."
   ]
  },
  {
   "cell_type": "markdown",
   "metadata": {},
   "source": [
    "*Credit to ProjectEuler and InterviewCake for some problem ideas.*\n",
    "\n",
    "> With <3 by @sredmond"
   ]
  },
  {
   "cell_type": "code",
   "execution_count": null,
   "metadata": {},
   "outputs": [],
   "source": []
  }
 ],
 "metadata": {
  "kernelspec": {
   "display_name": "Python 3",
   "language": "python",
   "name": "python3"
  },
  "language_info": {
   "codemirror_mode": {
    "name": "ipython",
    "version": 3
   },
   "file_extension": ".py",
   "mimetype": "text/x-python",
   "name": "python",
   "nbconvert_exporter": "python",
   "pygments_lexer": "ipython3",
   "version": "3.7.1"
  }
 },
 "nbformat": 4,
 "nbformat_minor": 4
}
